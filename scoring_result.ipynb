{
 "cells": [
  {
   "cell_type": "code",
   "execution_count": 77,
   "id": "d3bad486-ce14-4d67-b882-56b1170b508f",
   "metadata": {},
   "outputs": [],
   "source": [
    "import pandas as pd\n",
    "import numpy as np\n",
    "import seaborn as sns\n",
    "from matplotlib.pyplot import figure\n",
    "import datetime\n",
    "\n",
    "from scipy.stats import shapiro\n",
    "from sklearn.pipeline import Pipeline\n",
    "from sklearn.metrics import roc_auc_score, fbeta_score\n",
    "from sklearn.preprocessing import StandardScaler\n",
    "from sklearn.model_selection import train_test_split, cross_val_score, StratifiedKFold\n",
    "from sklearn.base import BaseEstimator, TransformerMixin\n",
    "\n",
    "from catboost import CatBoostClassifier\n",
    "from sklearn.ensemble import RandomForestClassifier\n",
    "import optuna\n",
    "\n",
    "%matplotlib inline"
   ]
  },
  {
   "cell_type": "markdown",
   "id": "4c0a08bc-e0ef-4b0f-ac68-0c05b3d93a5e",
   "metadata": {},
   "source": [
    "# ExploratoryDataAnalysis"
   ]
  },
  {
   "cell_type": "code",
   "execution_count": 4,
   "id": "38e87ff9-da6b-4c59-85b8-848df404589f",
   "metadata": {},
   "outputs": [],
   "source": [
    "# загрузим данные трейна\n",
    "df = pd.read_csv('train.csv')"
   ]
  },
  {
   "cell_type": "code",
   "execution_count": 5,
   "id": "b934d601-24ce-41c8-a1b4-4ee3e8d29bb5",
   "metadata": {},
   "outputs": [
    {
     "name": "stdout",
     "output_type": "stream",
     "text": [
      "<class 'pandas.core.frame.DataFrame'>\n",
      "RangeIndex: 3168 entries, 0 to 3167\n",
      "Data columns (total 19 columns):\n",
      " #   Column                  Non-Null Count  Dtype  \n",
      "---  ------                  --------------  -----  \n",
      " 0   Deal_id                 3168 non-null   int64  \n",
      " 1   Deal_date               3168 non-null   object \n",
      " 2   First_deal_date         3168 non-null   object \n",
      " 3   Secret_dwarf_info_1     535 non-null    float64\n",
      " 4   Secret_dwarf_info_2     535 non-null    float64\n",
      " 5   Secret_dwarf_info_3     535 non-null    float64\n",
      " 6   First_default_date      535 non-null    object \n",
      " 7   Successful_deals_count  3154 non-null   float64\n",
      " 8   Region                  3161 non-null   object \n",
      " 9   Tavern                  3168 non-null   int64  \n",
      " 10  Hashed_deal_detail_1    3168 non-null   float64\n",
      " 11  Hashed_deal_detail_2    3168 non-null   int64  \n",
      " 12  Hashed_deal_detail_3    3168 non-null   int64  \n",
      " 13  Hashed_deal_detail_4    3168 non-null   float64\n",
      " 14  Hashed_deal_detail_5    3168 non-null   int64  \n",
      " 15  Hashed_deal_detail_6    3168 non-null   int64  \n",
      " 16  Age                     3168 non-null   float64\n",
      " 17  Gender                  3168 non-null   object \n",
      " 18  Default                 3168 non-null   int64  \n",
      "dtypes: float64(7), int64(7), object(5)\n",
      "memory usage: 470.4+ KB\n"
     ]
    }
   ],
   "source": [
    "# имеются пропущенные значения: 3 скрытых колонки, First_default_date, Successful_deals_count, Region\n",
    "# колонки с датами имеют тип object\n",
    "# df.Default - таргет\n",
    "df.info()"
   ]
  },
  {
   "cell_type": "code",
   "execution_count": 6,
   "id": "92f1ae19-2dd2-407b-915a-3427ade7349b",
   "metadata": {},
   "outputs": [
    {
     "data": {
      "text/html": [
       "<div>\n",
       "<style scoped>\n",
       "    .dataframe tbody tr th:only-of-type {\n",
       "        vertical-align: middle;\n",
       "    }\n",
       "\n",
       "    .dataframe tbody tr th {\n",
       "        vertical-align: top;\n",
       "    }\n",
       "\n",
       "    .dataframe thead th {\n",
       "        text-align: right;\n",
       "    }\n",
       "</style>\n",
       "<table border=\"1\" class=\"dataframe\">\n",
       "  <thead>\n",
       "    <tr style=\"text-align: right;\">\n",
       "      <th></th>\n",
       "      <th>Deal_id</th>\n",
       "      <th>Deal_date</th>\n",
       "      <th>First_deal_date</th>\n",
       "      <th>Secret_dwarf_info_1</th>\n",
       "      <th>Secret_dwarf_info_2</th>\n",
       "      <th>Secret_dwarf_info_3</th>\n",
       "      <th>First_default_date</th>\n",
       "      <th>Successful_deals_count</th>\n",
       "      <th>Region</th>\n",
       "      <th>Tavern</th>\n",
       "      <th>Hashed_deal_detail_1</th>\n",
       "      <th>Hashed_deal_detail_2</th>\n",
       "      <th>Hashed_deal_detail_3</th>\n",
       "      <th>Hashed_deal_detail_4</th>\n",
       "      <th>Hashed_deal_detail_5</th>\n",
       "      <th>Hashed_deal_detail_6</th>\n",
       "      <th>Age</th>\n",
       "      <th>Gender</th>\n",
       "      <th>Default</th>\n",
       "    </tr>\n",
       "  </thead>\n",
       "  <tbody>\n",
       "    <tr>\n",
       "      <th>0</th>\n",
       "      <td>22487461</td>\n",
       "      <td>2015-11-05</td>\n",
       "      <td>2015-08-29</td>\n",
       "      <td>NaN</td>\n",
       "      <td>NaN</td>\n",
       "      <td>NaN</td>\n",
       "      <td>NaN</td>\n",
       "      <td>0.0</td>\n",
       "      <td>Tavern_district_3</td>\n",
       "      <td>7</td>\n",
       "      <td>2.5</td>\n",
       "      <td>-3</td>\n",
       "      <td>8</td>\n",
       "      <td>2.5</td>\n",
       "      <td>-3</td>\n",
       "      <td>5</td>\n",
       "      <td>36.0</td>\n",
       "      <td>Male</td>\n",
       "      <td>0</td>\n",
       "    </tr>\n",
       "    <tr>\n",
       "      <th>1</th>\n",
       "      <td>62494261</td>\n",
       "      <td>2016-08-26</td>\n",
       "      <td>2015-12-21</td>\n",
       "      <td>3.5</td>\n",
       "      <td>-2.0</td>\n",
       "      <td>5.0</td>\n",
       "      <td>2016-07-30</td>\n",
       "      <td>2.0</td>\n",
       "      <td>Tavern_district_4</td>\n",
       "      <td>7</td>\n",
       "      <td>2.5</td>\n",
       "      <td>-3</td>\n",
       "      <td>14</td>\n",
       "      <td>3.5</td>\n",
       "      <td>-3</td>\n",
       "      <td>5</td>\n",
       "      <td>29.0</td>\n",
       "      <td>Female</td>\n",
       "      <td>1</td>\n",
       "    </tr>\n",
       "    <tr>\n",
       "      <th>2</th>\n",
       "      <td>34822849</td>\n",
       "      <td>2016-02-18</td>\n",
       "      <td>2015-11-11</td>\n",
       "      <td>NaN</td>\n",
       "      <td>NaN</td>\n",
       "      <td>NaN</td>\n",
       "      <td>NaN</td>\n",
       "      <td>0.0</td>\n",
       "      <td>Tavern_district_6</td>\n",
       "      <td>7</td>\n",
       "      <td>2.5</td>\n",
       "      <td>-3</td>\n",
       "      <td>8</td>\n",
       "      <td>2.5</td>\n",
       "      <td>-3</td>\n",
       "      <td>5</td>\n",
       "      <td>56.0</td>\n",
       "      <td>Female</td>\n",
       "      <td>0</td>\n",
       "    </tr>\n",
       "  </tbody>\n",
       "</table>\n",
       "</div>"
      ],
      "text/plain": [
       "    Deal_id   Deal_date First_deal_date  Secret_dwarf_info_1  \\\n",
       "0  22487461  2015-11-05      2015-08-29                  NaN   \n",
       "1  62494261  2016-08-26      2015-12-21                  3.5   \n",
       "2  34822849  2016-02-18      2015-11-11                  NaN   \n",
       "\n",
       "   Secret_dwarf_info_2  Secret_dwarf_info_3 First_default_date  \\\n",
       "0                  NaN                  NaN                NaN   \n",
       "1                 -2.0                  5.0         2016-07-30   \n",
       "2                  NaN                  NaN                NaN   \n",
       "\n",
       "   Successful_deals_count             Region  Tavern  Hashed_deal_detail_1  \\\n",
       "0                     0.0  Tavern_district_3       7                   2.5   \n",
       "1                     2.0  Tavern_district_4       7                   2.5   \n",
       "2                     0.0  Tavern_district_6       7                   2.5   \n",
       "\n",
       "   Hashed_deal_detail_2  Hashed_deal_detail_3  Hashed_deal_detail_4  \\\n",
       "0                    -3                     8                   2.5   \n",
       "1                    -3                    14                   3.5   \n",
       "2                    -3                     8                   2.5   \n",
       "\n",
       "   Hashed_deal_detail_5  Hashed_deal_detail_6   Age  Gender  Default  \n",
       "0                    -3                     5  36.0    Male        0  \n",
       "1                    -3                     5  29.0  Female        1  \n",
       "2                    -3                     5  56.0  Female        0  "
      ]
     },
     "execution_count": 6,
     "metadata": {},
     "output_type": "execute_result"
    }
   ],
   "source": [
    "df.head(3)"
   ]
  },
  {
   "cell_type": "code",
   "execution_count": 7,
   "id": "89a17ef2-f856-43ba-8da8-481f604648e8",
   "metadata": {},
   "outputs": [
    {
     "data": {
      "text/plain": [
       "0    2817\n",
       "1     351\n",
       "Name: Default, dtype: int64"
      ]
     },
     "execution_count": 7,
     "metadata": {},
     "output_type": "execute_result"
    }
   ],
   "source": [
    "# задача бинарной классификации с диспропорцией классов\n",
    "df.Default.value_counts()"
   ]
  },
  {
   "cell_type": "markdown",
   "id": "8033f6f9-65a5-451e-a098-108605859b0d",
   "metadata": {},
   "source": [
    "Итого имеется три типа данных:  \n",
    "    1. **Числовые**  \n",
    "    - Deal_id      \n",
    "    - Secret_dwarf_info 1 - 3     \n",
    "    - Successful_deals_count  \n",
    "    - Tavern  \n",
    "    - Hashed_deal_detail 1 - 6  \n",
    "    - Age  \n",
    "    2. **Категориальные**  \n",
    "    - Region  \n",
    "    - Gender  \n",
    "    3. **Временные**  \n",
    "    - Deal_date  \n",
    "    - First_deal_date  \n",
    "    - First_default_date  "
   ]
  },
  {
   "cell_type": "code",
   "execution_count": 18,
   "id": "858d0184-0aef-49dd-8f4c-5f3922926b1a",
   "metadata": {},
   "outputs": [
    {
     "data": {
      "text/plain": [
       "<AxesSubplot:>"
      ]
     },
     "execution_count": 18,
     "metadata": {},
     "output_type": "execute_result"
    },
    {
     "data": {
      "image/png": "[encoded data removed]",
      "text/plain": [
       "<Figure size 1080x1080 with 2 Axes>"
      ]
     },
     "metadata": {
      "needs_background": "light"
     },
     "output_type": "display_data"
    }
   ],
   "source": [
    "# сильных корреляций между фичами не наблюдается\n",
    "figure(figsize=(15, 15))\n",
    "sns.heatmap(df.corr(), annot = True)"
   ]
  },
  {
   "cell_type": "markdown",
   "id": "1c5ebaec-6a20-47c2-a741-72fb5999de19",
   "metadata": {},
   "source": [
    "### Изучим числовые фичи"
   ]
  },
  {
   "cell_type": "code",
   "execution_count": 6,
   "id": "d1c9c992-18ed-4d3f-b26d-ad8d828e8622",
   "metadata": {},
   "outputs": [
    {
     "data": {
      "text/plain": [
       "<AxesSubplot:>"
      ]
     },
     "execution_count": 6,
     "metadata": {},
     "output_type": "execute_result"
    },
    {
     "data": {
      "image/png": "[encoded data removed]",
      "text/plain": [
       "<Figure size 432x288 with 1 Axes>"
      ]
     },
     "metadata": {
      "needs_background": "light"
     },
     "output_type": "display_data"
    }
   ],
   "source": [
    "df.Secret_dwarf_info_1.hist()"
   ]
  },
  {
   "cell_type": "code",
   "execution_count": 7,
   "id": "99e15653-2195-426a-bda1-b3e1f3b7582a",
   "metadata": {},
   "outputs": [
    {
     "data": {
      "text/plain": [
       "<AxesSubplot:>"
      ]
     },
     "execution_count": 7,
     "metadata": {},
     "output_type": "execute_result"
    },
    {
     "data": {
      "image/png": "[encoded data removed]",
      "text/plain": [
       "<Figure size 432x288 with 1 Axes>"
      ]
     },
     "metadata": {
      "needs_background": "light"
     },
     "output_type": "display_data"
    }
   ],
   "source": [
    "df.Secret_dwarf_info_2.hist()"
   ]
  },
  {
   "cell_type": "code",
   "execution_count": 8,
   "id": "90a45001-de17-4966-8ef4-933d2aa1ad5f",
   "metadata": {},
   "outputs": [
    {
     "data": {
      "text/plain": [
       "<AxesSubplot:>"
      ]
     },
     "execution_count": 8,
     "metadata": {},
     "output_type": "execute_result"
    },
    {
     "data": {
      "image/png": "[encoded data removed]",
      "text/plain": [
       "<Figure size 432x288 with 1 Axes>"
      ]
     },
     "metadata": {
      "needs_background": "light"
     },
     "output_type": "display_data"
    }
   ],
   "source": [
    "df.Secret_dwarf_info_3.hist()"
   ]
  },
  {
   "cell_type": "markdown",
   "id": "4d3a941b-e082-4026-82cf-a96a5227dd32",
   "metadata": {},
   "source": [
    "Секретные признаки выглядят как числовые дискретные (но возможно их рассмотреть и как порядковые)"
   ]
  },
  {
   "cell_type": "code",
   "execution_count": 22,
   "id": "3e1d6cc5-3acc-42e8-85ca-46109db82ece",
   "metadata": {},
   "outputs": [
    {
     "data": {
      "text/plain": [
       "<AxesSubplot:>"
      ]
     },
     "execution_count": 22,
     "metadata": {},
     "output_type": "execute_result"
    },
    {
     "data": {
      "image/png": "[encoded data removed]",
      "text/plain": [
       "<Figure size 432x288 with 1 Axes>"
      ]
     },
     "metadata": {
      "needs_background": "light"
     },
     "output_type": "display_data"
    }
   ],
   "source": [
    "# распределение числа оплаченных заказов\n",
    "# у большинства юзеров значение фичи = 0\n",
    "df.Successful_deals_count.hist()"
   ]
  },
  {
   "cell_type": "code",
   "execution_count": 72,
   "id": "95c21100-255a-456e-8385-5317bdd146b0",
   "metadata": {},
   "outputs": [
    {
     "name": "stdout",
     "output_type": "stream",
     "text": [
      "ShapiroResult(statistic=0.59234219789505, pvalue=1.5330122332527512e-33)\n",
      "ShapiroResult(statistic=0.7682059407234192, pvalue=8.633050309193783e-27)\n",
      "ShapiroResult(statistic=0.5588204860687256, pvalue=1.5028699867037754e-34)\n",
      "ShapiroResult(statistic=0.6698945760726929, pvalue=0.0)\n"
     ]
    }
   ],
   "source": [
    "print(shapiro(df.Secret_dwarf_info_1[df.Secret_dwarf_info_1.notna()]))\n",
    "print(shapiro(df.Secret_dwarf_info_2[df.Secret_dwarf_info_2.notna()]))\n",
    "print(shapiro(df.Secret_dwarf_info_3[df.Secret_dwarf_info_3.notna()]))\n",
    "print(shapiro(df.Successful_deals_count[df.Successful_deals_count.notna()]))"
   ]
  },
  {
   "cell_type": "markdown",
   "id": "272c45c9-ebf6-4909-8d0a-0ef62f1c9c37",
   "metadata": {},
   "source": [
    "Пропущенные значения у рассмотренных признаков - трех секретных и Successful_deals_count - предлагается заменить на моды их распределений, поскольку их распределения отличаются от нормального"
   ]
  },
  {
   "cell_type": "code",
   "execution_count": 6,
   "id": "d2d7cb5f-aa66-4d12-bd60-d2f7dbae9038",
   "metadata": {},
   "outputs": [
    {
     "data": {
      "text/plain": [
       "<AxesSubplot:>"
      ]
     },
     "execution_count": 6,
     "metadata": {},
     "output_type": "execute_result"
    },
    {
     "data": {
      "image/png": "[encoded data removed]",
      "text/plain": [
       "<Figure size 432x288 with 1 Axes>"
      ]
     },
     "metadata": {
      "needs_background": "light"
     },
     "output_type": "display_data"
    }
   ],
   "source": [
    "df.Tavern.hist()"
   ]
  },
  {
   "cell_type": "code",
   "execution_count": 21,
   "id": "37c809ed-c492-4dc8-ba1e-0ac7c329e4b9",
   "metadata": {},
   "outputs": [
    {
     "data": {
      "text/plain": [
       "ShapiroResult(statistic=0.7422202825546265, pvalue=0.0)"
      ]
     },
     "execution_count": 21,
     "metadata": {},
     "output_type": "execute_result"
    }
   ],
   "source": [
    "# распределение отлично от нормального, значения от 2 до 58\n",
    "shapiro(df.Tavern)"
   ]
  },
  {
   "cell_type": "code",
   "execution_count": 27,
   "id": "c1a20654-1f65-4bc8-ab22-69c2b4090de7",
   "metadata": {},
   "outputs": [
    {
     "name": "stdout",
     "output_type": "stream",
     "text": [
      "7 values in Hashed_deal_detail_1 column\n",
      "23 values in Hashed_deal_detail_2 column\n",
      "23 values in Hashed_deal_detail_3 column\n",
      "21 values in Hashed_deal_detail_4 column\n",
      "7 values in Hashed_deal_detail_5 column\n",
      "1 values in Hashed_deal_detail_6 column\n"
     ]
    }
   ],
   "source": [
    "# посмотрим на значения хэшированных признаков\n",
    "hash_cols = ['Hashed_deal_detail_1', 'Hashed_deal_detail_2', 'Hashed_deal_detail_3', 'Hashed_deal_detail_4',\n",
    "       'Hashed_deal_detail_5', 'Hashed_deal_detail_6']\n",
    "for col in hash_cols:\n",
    "    print(f'{df[col].nunique()} values in {col} column')"
   ]
  },
  {
   "cell_type": "markdown",
   "id": "3379d952-807a-4652-8cfd-968aa07257b9",
   "metadata": {},
   "source": [
    "Последнюю колонку можно попробовать удалить, остальные - рассмотреть как числовой признак / категориальный признак"
   ]
  },
  {
   "cell_type": "code",
   "execution_count": 28,
   "id": "5ad3ae77-a1ba-4abd-b47f-5987965a88ea",
   "metadata": {},
   "outputs": [
    {
     "data": {
      "text/plain": [
       "<AxesSubplot:>"
      ]
     },
     "execution_count": 28,
     "metadata": {},
     "output_type": "execute_result"
    },
    {
     "data": {
      "image/png": "[encoded data removed]",
      "text/plain": [
       "<Figure size 432x288 with 1 Axes>"
      ]
     },
     "metadata": {
      "needs_background": "light"
     },
     "output_type": "display_data"
    }
   ],
   "source": [
    "# можно попробовать прологарифмировать возраст юзеров\n",
    "np.log(df.Age).hist()"
   ]
  },
  {
   "cell_type": "code",
   "execution_count": 20,
   "id": "387ec20d-845a-4e9b-b363-0ed94498255c",
   "metadata": {},
   "outputs": [
    {
     "data": {
      "text/plain": [
       "Tavern_district_3    1204\n",
       "Tavern_district_6     478\n",
       "Tavern_district_2     448\n",
       "Tavern_district_4     364\n",
       "Tavern_district_1     240\n",
       "Tavern_district_0     213\n",
       "Tavern_district_5     160\n",
       "Tavern_district_7      54\n",
       "Name: Region, dtype: int64"
      ]
     },
     "execution_count": 20,
     "metadata": {},
     "output_type": "execute_result"
    }
   ],
   "source": [
    "# фича Region - категориальная\n",
    "df.Region.value_counts()"
   ]
  },
  {
   "cell_type": "code",
   "execution_count": 31,
   "id": "0eb25f1d-4b65-4a81-acbf-bbc0fcc67ee1",
   "metadata": {},
   "outputs": [
    {
     "data": {
      "text/plain": [
       "('2015-05-01', '2016-09-13', 535)"
      ]
     },
     "execution_count": 31,
     "metadata": {},
     "output_type": "execute_result"
    }
   ],
   "source": [
    "# есть всего 535 дат первого дефолта по более чем 3000 юзерам\n",
    "df.First_default_date.dropna().min(), df.First_default_date.dropna().max(), df.First_default_date.dropna().count()"
   ]
  },
  {
   "cell_type": "markdown",
   "id": "48bf8281-3110-4abc-9c1e-1ed9e89d53aa",
   "metadata": {},
   "source": [
    "# FeatureEngineering  \n",
    "\n",
    "\n",
    "- **заменим пропущенные значения** (*First_default_date* - какой-нибудь **датой**, явно отличающейся от рассматриваемого периода, например за год до наблюдений (чтобы по этой фиче объекты точно отличались друг от друга), остальные признаки *Region, Secret_dwarf_info_1, Secret_dwarf_info_2, Secret_dwarf_info_3, Successful_deals_count* на **моды** соответствующих распределений)  \n",
    "- **добавим временные периоды** по всем соответствующим фичам (время от первого заказа до нынешнего *First_deal_date - Deal_date* / время от первого дефолта до нынешнего заказа *First_default_date - Deal_date* / время от первого заказа до первого дефолта *First_default_date - First_deal_date*) и **удалим** *первоначальные даты*    \n",
    "- **добавим стандартные отклонения** *секретных и хэшированных* признаков  \n",
    "- **залогируем** возраст *np.log(Age)*  \n",
    "- **стандартизуем** *df.Tavern*  \n",
    "- **удалим** признак с константным значением *Hashed_deal_detail_6* и неинформативный айдишник *Deal_id*  "
   ]
  },
  {
   "cell_type": "code",
   "execution_count": 78,
   "id": "d0071ba7-6982-4bab-9ca1-15f5bda4040d",
   "metadata": {},
   "outputs": [],
   "source": [
    "# класс для препроцессинга колонок с отсутствующими значениями\n",
    "class DataTransformNull(BaseEstimator, TransformerMixin):\n",
    "    \n",
    "    def __init__(self, mode_cols, date_cols):\n",
    "        self.mode_cols = mode_cols\n",
    "        self.date_cols = date_cols\n",
    "        \n",
    "    def fit(self, X, y = None):\n",
    "        return self\n",
    "    \n",
    "    def transform(self, X, y = None):\n",
    "        for col in self.mode_cols:\n",
    "            X[col] = X[col].fillna(X[col].mode()[0])\n",
    "        min_date = pd.to_datetime(X[self.date_cols[-1]]).dropna().min() - datetime.timedelta(days = 365)\n",
    "        X[self.date_cols[-1]] = X[self.date_cols[-1]].fillna(min_date)\n",
    "        return X\n",
    "    \n",
    "# класс для препроцессинга временных фичей\n",
    "class DateTransform(BaseEstimator, TransformerMixin):\n",
    "    \n",
    "    def __init__(self, date_cols):\n",
    "        self.date_cols = date_cols\n",
    "\n",
    "    def fit(self, X, y = None):    \n",
    "        return self\n",
    "    \n",
    "    def transform(self, X, y = None):\n",
    "        for col in self.date_cols:\n",
    "            X[col] = X[col].apply(pd.to_datetime)\n",
    "            X[col + '_year'] = X[col].dt.year\n",
    "            X[col + '_month'] = X[col].dt.month\n",
    "            X[col + '_day'] = X[col].dt.day\n",
    "        X['default_period_from_first_deal'] = (pd.to_datetime(X[self.date_cols[-1]]) - pd.to_datetime(X[self.date_cols[1]])).dt.days.fillna(0)\n",
    "        X['deal_from_default'] = (pd.to_datetime(X[self.date_cols[0]]) - pd.to_datetime(X[self.date_cols[-1]])).dt.days.fillna(0)\n",
    "        X['deal_from_first_deal'] = (pd.to_datetime(X[self.date_cols[0]]) - pd.to_datetime(X[self.date_cols[1]])).dt.days.fillna(0)\n",
    "        return X\n",
    "\n",
    "# логируем\n",
    "class NumLog(BaseEstimator, TransformerMixin):\n",
    "    \n",
    "    def __init__(self, log_cols):\n",
    "        self.log_cols = log_cols\n",
    "        \n",
    "    def fit(self, X, y= None):\n",
    "        return self\n",
    "    \n",
    "    def transform(self, X, y = None):\n",
    "        for col in self.log_cols:\n",
    "            X[col] = np.log(X[col])\n",
    "        return X\n",
    "    \n",
    "# стандартизуем\n",
    "class Scaler(BaseEstimator, TransformerMixin):\n",
    "    \n",
    "    def __init__(self, scaler_cols):\n",
    "        self.scaler_cols = scaler_cols\n",
    "        \n",
    "    def fit(self, X, y = None):\n",
    "        return self\n",
    "    \n",
    "    def transform(self, X, y = None):\n",
    "        scaler = StandardScaler()\n",
    "        for col in self.scaler_cols:\n",
    "            X[col] = scaler.fit_transform(X[col].values.reshape(-1, 1))\n",
    "        return X\n",
    "    \n",
    "# добавим вариативность признаков\n",
    "class StdCol(BaseEstimator, TransformerMixin):\n",
    "    \n",
    "    def __init__(self, std_cols):\n",
    "        self.std_cols = std_cols\n",
    "        \n",
    "    def fit(self, X, y = None):\n",
    "        return self\n",
    "    \n",
    "    def transform(self, X, y = None):\n",
    "        X[self.std_cols[0] + '_std'] = X[self.std_cols].std(axis = 1)\n",
    "        \n",
    "        return X\n",
    "    \n",
    "# удалим лишнее\n",
    "class DelCols(BaseEstimator, TransformerMixin):\n",
    "    \n",
    "    def __init__(self, del_cols):\n",
    "        self.del_cols = del_cols\n",
    "        \n",
    "    def fit(self, X, y = None):\n",
    "        return self\n",
    "    \n",
    "    def transform(self, X, y = None):\n",
    "        X = X.drop(columns = self.del_cols, axis = 1)\n",
    "        return X"
   ]
  },
  {
   "cell_type": "code",
   "execution_count": 79,
   "id": "5e297de5-f6a8-45fd-9779-dd3882fd0043",
   "metadata": {},
   "outputs": [],
   "source": [
    "mode_cols = ['Region', 'Secret_dwarf_info_1', 'Secret_dwarf_info_2', 'Secret_dwarf_info_3', 'Successful_deals_count']\n",
    "date_cols = ['Deal_date', 'First_deal_date', 'First_default_date']\n",
    "log_cols = ['Age']\n",
    "scaler_cols = ['Tavern']\n",
    "std_cols = ['Secret_dwarf_info_1', 'Secret_dwarf_info_2', 'Secret_dwarf_info_3']\n",
    "std_cols1 = ['Hashed_deal_detail_1', 'Hashed_deal_detail_2', 'Hashed_deal_detail_3', 'Hashed_deal_detail_4', 'Hashed_deal_detail_5']\n",
    "del_cols = ['Deal_id', 'Hashed_deal_detail_6', 'Deal_date', 'First_deal_date', 'First_default_date']\n",
    "\n",
    "df = pd.read_csv('train.csv')\n",
    "\n",
    "pipe = Pipeline([('null_cols', DataTransformNull(mode_cols, date_cols)),\n",
    "                 ('date', DateTransform(date_cols)),\n",
    "                 ('num_log', NumLog(log_cols)), \n",
    "                 ('scaler', Scaler(scaler_cols)),\n",
    "                 ('std', StdCol(std_cols)), \n",
    "                 ('std1', StdCol(std_cols1)), \n",
    "                 ('del', DelCols(del_cols))])\n",
    "transformed_df = pipe.fit_transform(df)"
   ]
  },
  {
   "cell_type": "code",
   "execution_count": 6,
   "id": "523d1809-b794-429e-81fd-b97af11c1284",
   "metadata": {},
   "outputs": [
    {
     "name": "stdout",
     "output_type": "stream",
     "text": [
      "<class 'pandas.core.frame.DataFrame'>\n",
      "RangeIndex: 3168 entries, 0 to 3167\n",
      "Data columns (total 28 columns):\n",
      " #   Column                          Non-Null Count  Dtype  \n",
      "---  ------                          --------------  -----  \n",
      " 0   Secret_dwarf_info_1             3168 non-null   float64\n",
      " 1   Secret_dwarf_info_2             3168 non-null   float64\n",
      " 2   Secret_dwarf_info_3             3168 non-null   float64\n",
      " 3   Successful_deals_count          3168 non-null   float64\n",
      " 4   Region                          3168 non-null   object \n",
      " 5   Tavern                          3168 non-null   float64\n",
      " 6   Hashed_deal_detail_1            3168 non-null   float64\n",
      " 7   Hashed_deal_detail_2            3168 non-null   int64  \n",
      " 8   Hashed_deal_detail_3            3168 non-null   int64  \n",
      " 9   Hashed_deal_detail_4            3168 non-null   float64\n",
      " 10  Hashed_deal_detail_5            3168 non-null   int64  \n",
      " 11  Age                             3168 non-null   float64\n",
      " 12  Gender                          3168 non-null   object \n",
      " 13  Default                         3168 non-null   int64  \n",
      " 14  Deal_date_year                  3168 non-null   int64  \n",
      " 15  Deal_date_month                 3168 non-null   int64  \n",
      " 16  Deal_date_day                   3168 non-null   int64  \n",
      " 17  First_deal_date_year            3168 non-null   int64  \n",
      " 18  First_deal_date_month           3168 non-null   int64  \n",
      " 19  First_deal_date_day             3168 non-null   int64  \n",
      " 20  First_default_date_year         3168 non-null   int64  \n",
      " 21  First_default_date_month        3168 non-null   int64  \n",
      " 22  First_default_date_day          3168 non-null   int64  \n",
      " 23  default_period_from_first_deal  3168 non-null   int64  \n",
      " 24  deal_from_default               3168 non-null   int64  \n",
      " 25  deal_from_first_deal            3168 non-null   int64  \n",
      " 26  Secret_dwarf_info_1_std         3168 non-null   float64\n",
      " 27  Hashed_deal_detail_1_std        3168 non-null   float64\n",
      "dtypes: float64(10), int64(16), object(2)\n",
      "memory usage: 693.1+ KB\n"
     ]
    }
   ],
   "source": [
    "transformed_df.info()"
   ]
  },
  {
   "cell_type": "code",
   "execution_count": 7,
   "id": "88e7b4b7-efdf-4ed9-88f6-1551a9fb0097",
   "metadata": {},
   "outputs": [
    {
     "data": {
      "text/html": [
       "<div>\n",
       "<style scoped>\n",
       "    .dataframe tbody tr th:only-of-type {\n",
       "        vertical-align: middle;\n",
       "    }\n",
       "\n",
       "    .dataframe tbody tr th {\n",
       "        vertical-align: top;\n",
       "    }\n",
       "\n",
       "    .dataframe thead th {\n",
       "        text-align: right;\n",
       "    }\n",
       "</style>\n",
       "<table border=\"1\" class=\"dataframe\">\n",
       "  <thead>\n",
       "    <tr style=\"text-align: right;\">\n",
       "      <th></th>\n",
       "      <th>Secret_dwarf_info_1</th>\n",
       "      <th>Secret_dwarf_info_2</th>\n",
       "      <th>Secret_dwarf_info_3</th>\n",
       "      <th>Successful_deals_count</th>\n",
       "      <th>Region</th>\n",
       "      <th>Tavern</th>\n",
       "      <th>Hashed_deal_detail_1</th>\n",
       "      <th>Hashed_deal_detail_2</th>\n",
       "      <th>Hashed_deal_detail_3</th>\n",
       "      <th>Hashed_deal_detail_4</th>\n",
       "      <th>...</th>\n",
       "      <th>First_deal_date_month</th>\n",
       "      <th>First_deal_date_day</th>\n",
       "      <th>First_default_date_year</th>\n",
       "      <th>First_default_date_month</th>\n",
       "      <th>First_default_date_day</th>\n",
       "      <th>default_period_from_first_deal</th>\n",
       "      <th>deal_from_default</th>\n",
       "      <th>deal_from_first_deal</th>\n",
       "      <th>Secret_dwarf_info_1_std</th>\n",
       "      <th>Hashed_deal_detail_1_std</th>\n",
       "    </tr>\n",
       "  </thead>\n",
       "  <tbody>\n",
       "    <tr>\n",
       "      <th>0</th>\n",
       "      <td>3.5</td>\n",
       "      <td>-2.0</td>\n",
       "      <td>5.0</td>\n",
       "      <td>0.0</td>\n",
       "      <td>Tavern_district_3</td>\n",
       "      <td>-0.717553</td>\n",
       "      <td>2.5</td>\n",
       "      <td>-3</td>\n",
       "      <td>8</td>\n",
       "      <td>2.5</td>\n",
       "      <td>...</td>\n",
       "      <td>8</td>\n",
       "      <td>29</td>\n",
       "      <td>2014</td>\n",
       "      <td>5</td>\n",
       "      <td>1</td>\n",
       "      <td>-485</td>\n",
       "      <td>553</td>\n",
       "      <td>68</td>\n",
       "      <td>3.685557</td>\n",
       "      <td>4.601630</td>\n",
       "    </tr>\n",
       "    <tr>\n",
       "      <th>1</th>\n",
       "      <td>3.5</td>\n",
       "      <td>-2.0</td>\n",
       "      <td>5.0</td>\n",
       "      <td>2.0</td>\n",
       "      <td>Tavern_district_4</td>\n",
       "      <td>-0.717553</td>\n",
       "      <td>2.5</td>\n",
       "      <td>-3</td>\n",
       "      <td>14</td>\n",
       "      <td>3.5</td>\n",
       "      <td>...</td>\n",
       "      <td>12</td>\n",
       "      <td>21</td>\n",
       "      <td>2016</td>\n",
       "      <td>7</td>\n",
       "      <td>30</td>\n",
       "      <td>222</td>\n",
       "      <td>27</td>\n",
       "      <td>249</td>\n",
       "      <td>3.685557</td>\n",
       "      <td>6.951619</td>\n",
       "    </tr>\n",
       "    <tr>\n",
       "      <th>2</th>\n",
       "      <td>3.5</td>\n",
       "      <td>-2.0</td>\n",
       "      <td>5.0</td>\n",
       "      <td>0.0</td>\n",
       "      <td>Tavern_district_6</td>\n",
       "      <td>-0.717553</td>\n",
       "      <td>2.5</td>\n",
       "      <td>-3</td>\n",
       "      <td>8</td>\n",
       "      <td>2.5</td>\n",
       "      <td>...</td>\n",
       "      <td>11</td>\n",
       "      <td>11</td>\n",
       "      <td>2014</td>\n",
       "      <td>5</td>\n",
       "      <td>1</td>\n",
       "      <td>-559</td>\n",
       "      <td>658</td>\n",
       "      <td>99</td>\n",
       "      <td>3.685557</td>\n",
       "      <td>4.601630</td>\n",
       "    </tr>\n",
       "    <tr>\n",
       "      <th>3</th>\n",
       "      <td>3.5</td>\n",
       "      <td>-2.0</td>\n",
       "      <td>5.0</td>\n",
       "      <td>0.0</td>\n",
       "      <td>Tavern_district_2</td>\n",
       "      <td>-0.039624</td>\n",
       "      <td>2.5</td>\n",
       "      <td>-2</td>\n",
       "      <td>5</td>\n",
       "      <td>2.5</td>\n",
       "      <td>...</td>\n",
       "      <td>3</td>\n",
       "      <td>22</td>\n",
       "      <td>2014</td>\n",
       "      <td>5</td>\n",
       "      <td>1</td>\n",
       "      <td>-691</td>\n",
       "      <td>730</td>\n",
       "      <td>39</td>\n",
       "      <td>3.685557</td>\n",
       "      <td>3.372684</td>\n",
       "    </tr>\n",
       "    <tr>\n",
       "      <th>4</th>\n",
       "      <td>3.5</td>\n",
       "      <td>-2.0</td>\n",
       "      <td>5.0</td>\n",
       "      <td>0.0</td>\n",
       "      <td>Tavern_district_4</td>\n",
       "      <td>2.898065</td>\n",
       "      <td>2.5</td>\n",
       "      <td>-3</td>\n",
       "      <td>7</td>\n",
       "      <td>2.5</td>\n",
       "      <td>...</td>\n",
       "      <td>7</td>\n",
       "      <td>21</td>\n",
       "      <td>2014</td>\n",
       "      <td>5</td>\n",
       "      <td>1</td>\n",
       "      <td>-812</td>\n",
       "      <td>872</td>\n",
       "      <td>60</td>\n",
       "      <td>3.685557</td>\n",
       "      <td>4.251470</td>\n",
       "    </tr>\n",
       "  </tbody>\n",
       "</table>\n",
       "<p>5 rows × 28 columns</p>\n",
       "</div>"
      ],
      "text/plain": [
       "   Secret_dwarf_info_1  Secret_dwarf_info_2  Secret_dwarf_info_3  \\\n",
       "0                  3.5                 -2.0                  5.0   \n",
       "1                  3.5                 -2.0                  5.0   \n",
       "2                  3.5                 -2.0                  5.0   \n",
       "3                  3.5                 -2.0                  5.0   \n",
       "4                  3.5                 -2.0                  5.0   \n",
       "\n",
       "   Successful_deals_count             Region    Tavern  Hashed_deal_detail_1  \\\n",
       "0                     0.0  Tavern_district_3 -0.717553                   2.5   \n",
       "1                     2.0  Tavern_district_4 -0.717553                   2.5   \n",
       "2                     0.0  Tavern_district_6 -0.717553                   2.5   \n",
       "3                     0.0  Tavern_district_2 -0.039624                   2.5   \n",
       "4                     0.0  Tavern_district_4  2.898065                   2.5   \n",
       "\n",
       "   Hashed_deal_detail_2  Hashed_deal_detail_3  Hashed_deal_detail_4  ...  \\\n",
       "0                    -3                     8                   2.5  ...   \n",
       "1                    -3                    14                   3.5  ...   \n",
       "2                    -3                     8                   2.5  ...   \n",
       "3                    -2                     5                   2.5  ...   \n",
       "4                    -3                     7                   2.5  ...   \n",
       "\n",
       "   First_deal_date_month  First_deal_date_day First_default_date_year  \\\n",
       "0                      8                   29                    2014   \n",
       "1                     12                   21                    2016   \n",
       "2                     11                   11                    2014   \n",
       "3                      3                   22                    2014   \n",
       "4                      7                   21                    2014   \n",
       "\n",
       "   First_default_date_month  First_default_date_day  \\\n",
       "0                         5                       1   \n",
       "1                         7                      30   \n",
       "2                         5                       1   \n",
       "3                         5                       1   \n",
       "4                         5                       1   \n",
       "\n",
       "   default_period_from_first_deal  deal_from_default  deal_from_first_deal  \\\n",
       "0                            -485                553                    68   \n",
       "1                             222                 27                   249   \n",
       "2                            -559                658                    99   \n",
       "3                            -691                730                    39   \n",
       "4                            -812                872                    60   \n",
       "\n",
       "   Secret_dwarf_info_1_std  Hashed_deal_detail_1_std  \n",
       "0                 3.685557                  4.601630  \n",
       "1                 3.685557                  6.951619  \n",
       "2                 3.685557                  4.601630  \n",
       "3                 3.685557                  3.372684  \n",
       "4                 3.685557                  4.251470  \n",
       "\n",
       "[5 rows x 28 columns]"
      ]
     },
     "execution_count": 7,
     "metadata": {},
     "output_type": "execute_result"
    }
   ],
   "source": [
    "transformed_df.head()"
   ]
  },
  {
   "cell_type": "markdown",
   "id": "7c4a6869-c3b6-483d-8832-15b78bfc542e",
   "metadata": {},
   "source": [
    "# BaselineModel"
   ]
  },
  {
   "cell_type": "markdown",
   "id": "84a947e0-65a8-4132-9551-e5caed87c669",
   "metadata": {},
   "source": [
    "Говоря о выборе модели, стоит учесть характеристики имеющихся данных. Поскольку в данном датасете:  \n",
    "- данных немного,  \n",
    "- фичей тоже,  \n",
    "- имеется диспропорция классов,  \n",
    "можно взять к рассмотрению **RandomForest** и основанный на бустинге алгоритм, например **CatBoost** (учтем численные дискретные фичи как категориальные). Однако, будем следить за возможным переобучением катбуста."
   ]
  },
  {
   "cell_type": "markdown",
   "id": "c5db1a3f-97aa-437a-89e0-cd480d61e3ee",
   "metadata": {},
   "source": [
    "## CatBoost_Baseline  \n",
    "Переберем все возможные комбинации категориальных фичей, чтобы оценить лучшую комбинацию кат фичей"
   ]
  },
  {
   "cell_type": "code",
   "execution_count": 80,
   "id": "c4e3d1d4-9d12-43f3-b46c-145a03afef53",
   "metadata": {},
   "outputs": [],
   "source": [
    "X = transformed_df.drop(columns = 'Default', axis = 1)\n",
    "y = transformed_df.Default"
   ]
  },
  {
   "cell_type": "code",
   "execution_count": 81,
   "id": "ee1d75aa-d675-43fa-be17-f3d238058252",
   "metadata": {},
   "outputs": [],
   "source": [
    "cat_cols_cb = ['Secret_dwarf_info_1', 'Secret_dwarf_info_2', 'Secret_dwarf_info_3',\n",
    "       'Successful_deals_count', 'Hashed_deal_detail_1', 'Hashed_deal_detail_2', 'Hashed_deal_detail_3', 'Hashed_deal_detail_4',\n",
    "       'Hashed_deal_detail_5', 'Deal_date_year','Deal_date_month', 'Deal_date_day', 'First_deal_date_year',\n",
    "       'First_deal_date_month', 'First_deal_date_day',\n",
    "       'First_default_date_year', 'First_default_date_month',\n",
    "       'First_default_date_day', 'Gender', 'Region']"
   ]
  },
  {
   "cell_type": "code",
   "execution_count": 85,
   "id": "4e35ce5f-5bed-4a44-b7c8-42346ee73700",
   "metadata": {},
   "outputs": [],
   "source": [
    "n_splits = 3\n",
    "feature_config = []\n",
    "roc_auc_scores = []\n",
    "X_cb = X.copy()\n",
    "y_cb = y.copy()\n",
    "\n",
    "for i in range(18):\n",
    "    cat_cols_cb1 = cat_cols_cb[i:]\n",
    "    for col in cat_cols_cb1:\n",
    "        X_cb[col] = X_cb[col].map(str)\n",
    "    scores_rs = []\n",
    "    skf = StratifiedKFold(n_splits=n_splits, shuffle=True, random_state=42)\n",
    "\n",
    "    for train_index, test_index in skf.split(X_cb, y_cb):\n",
    "        X_train_cb, X_test_cb = X_cb.iloc[train_index], X_cb.iloc[test_index]\n",
    "        y_train_cb, y_test_cb = y_cb[train_index], y_cb[test_index]\n",
    "\n",
    "        clf = CatBoostClassifier(iterations = 1000, eval_metric = 'AUC',\n",
    "                              cat_features = cat_cols_cb1, random_seed=42, logging_level='Silent', \n",
    "                              task_type='CPU', early_stopping_rounds=250 + i*10 )\n",
    "\n",
    "\n",
    "        clf.fit(X_train_cb, y_train_cb, eval_set=(X_test_cb, y_test_cb),\n",
    "                verbose = 500, use_best_model = True, plot = False)\n",
    "        scores_rs.append(roc_auc_score(y_test_cb, clf.predict(X_test_cb)))\n",
    "    feature_config.append(cat_cols_cb1)\n",
    "    roc_auc_scores.append(sum(scores_rs) / len(scores_rs))"
   ]
  },
  {
   "cell_type": "code",
   "execution_count": 102,
   "id": "2c5668e3-f85d-43b0-b09b-abdba7fe80f8",
   "metadata": {},
   "outputs": [
    {
     "name": "stderr",
     "output_type": "stream",
     "text": [
      "/tmp/ipykernel_53/3656198469.py:2: VisibleDeprecationWarning: Creating an ndarray from ragged nested sequences (which is a list-or-tuple of lists-or-tuples-or ndarrays with different lengths or shapes) is deprecated. If you meant to do this, you must specify 'dtype=object' when creating the ndarray.\n",
      "  df['feature_config'] = np.array(feature_config)\n"
     ]
    },
    {
     "data": {
      "text/html": [
       "<div>\n",
       "<style scoped>\n",
       "    .dataframe tbody tr th:only-of-type {\n",
       "        vertical-align: middle;\n",
       "    }\n",
       "\n",
       "    .dataframe tbody tr th {\n",
       "        vertical-align: top;\n",
       "    }\n",
       "\n",
       "    .dataframe thead th {\n",
       "        text-align: right;\n",
       "    }\n",
       "</style>\n",
       "<table border=\"1\" class=\"dataframe\">\n",
       "  <thead>\n",
       "    <tr style=\"text-align: right;\">\n",
       "      <th></th>\n",
       "      <th>feature_config</th>\n",
       "      <th>roc_auc_scores</th>\n",
       "    </tr>\n",
       "  </thead>\n",
       "  <tbody>\n",
       "    <tr>\n",
       "      <th>0</th>\n",
       "      <td>[Secret_dwarf_info_1, Secret_dwarf_info_2, Sec...</td>\n",
       "      <td>0.504811</td>\n",
       "    </tr>\n",
       "    <tr>\n",
       "      <th>1</th>\n",
       "      <td>[Secret_dwarf_info_2, Secret_dwarf_info_3, Suc...</td>\n",
       "      <td>0.509439</td>\n",
       "    </tr>\n",
       "    <tr>\n",
       "      <th>2</th>\n",
       "      <td>[Secret_dwarf_info_3, Successful_deals_count, ...</td>\n",
       "      <td>0.503919</td>\n",
       "    </tr>\n",
       "    <tr>\n",
       "      <th>3</th>\n",
       "      <td>[Successful_deals_count, Hashed_deal_detail_1,...</td>\n",
       "      <td>0.514250</td>\n",
       "    </tr>\n",
       "    <tr>\n",
       "      <th>4</th>\n",
       "      <td>[Hashed_deal_detail_1, Hashed_deal_detail_2, H...</td>\n",
       "      <td>0.507660</td>\n",
       "    </tr>\n",
       "  </tbody>\n",
       "</table>\n",
       "</div>"
      ],
      "text/plain": [
       "                                      feature_config  roc_auc_scores\n",
       "0  [Secret_dwarf_info_1, Secret_dwarf_info_2, Sec...        0.504811\n",
       "1  [Secret_dwarf_info_2, Secret_dwarf_info_3, Suc...        0.509439\n",
       "2  [Secret_dwarf_info_3, Successful_deals_count, ...        0.503919\n",
       "3  [Successful_deals_count, Hashed_deal_detail_1,...        0.514250\n",
       "4  [Hashed_deal_detail_1, Hashed_deal_detail_2, H...        0.507660"
      ]
     },
     "execution_count": 102,
     "metadata": {},
     "output_type": "execute_result"
    }
   ],
   "source": [
    "df = pd.DataFrame()\n",
    "df['feature_config'] = np.array(feature_config)\n",
    "df['roc_auc_scores'] = np.array(roc_auc_scores)\n",
    "df.head()"
   ]
  },
  {
   "cell_type": "code",
   "execution_count": 103,
   "id": "5a8fedeb-e40d-4a1b-9654-d12fc5cb1a94",
   "metadata": {},
   "outputs": [
    {
     "data": {
      "text/plain": [
       "(0.5163885930659093, 0.5026715090612854)"
      ]
     },
     "execution_count": 103,
     "metadata": {},
     "output_type": "execute_result"
    }
   ],
   "source": [
    "# по всем сидам и вариациям кат фичей разница в скоре на трейне невелика\n",
    "df.roc_auc_scores.max(), df.roc_auc_scores.min()"
   ]
  },
  {
   "cell_type": "code",
   "execution_count": 33,
   "id": "8e4dd5fa-d998-4aba-a6c6-3f65191130d9",
   "metadata": {},
   "outputs": [
    {
     "data": {
      "text/plain": [
       "2    [Secret_dwarf_info_3, Successful_deals_count, ...\n",
       "Name: feature_config, dtype: object"
      ]
     },
     "execution_count": 33,
     "metadata": {},
     "output_type": "execute_result"
    }
   ],
   "source": [
    "# лучшая комбинация кат фичей\n",
    "df[df.roc_auc_scores == df.roc_auc_scores.max()].feature_config"
   ]
  },
  {
   "cell_type": "code",
   "execution_count": 12,
   "id": "d53588b3-4abd-4a44-bd7a-4179886e961c",
   "metadata": {},
   "outputs": [
    {
     "name": "stdout",
     "output_type": "stream",
     "text": [
      "Learning rate set to 0.014474\n",
      "0:\ttotal: 2.01ms\tremaining: 2.01s\n",
      "500:\ttotal: 4.72s\tremaining: 4.7s\n",
      "999:\ttotal: 10.1s\tremaining: 0us\n"
     ]
    },
    {
     "data": {
      "text/plain": [
       "0.5047619047619047"
      ]
     },
     "execution_count": 12,
     "metadata": {},
     "output_type": "execute_result"
    }
   ],
   "source": [
    "# бейзлайн модель с выбранными кат фичами\n",
    "cat_cols_cb = ['Secret_dwarf_info_3', 'Successful_deals_count', 'Hashed_deal_detail_1', 'Hashed_deal_detail_2', 'Hashed_deal_detail_3', 'Hashed_deal_detail_4',\n",
    "       'Hashed_deal_detail_5', 'Deal_date_year','Deal_date_month', 'Deal_date_day', 'First_deal_date_year',\n",
    "       'First_deal_date_month', 'First_deal_date_day', 'First_default_date_year', 'First_default_date_month', 'First_default_date_day','Gender', 'Region']\n",
    "for col in cat_cols_cb:\n",
    "    X_train[col] = X_train[col].map(str)\n",
    "    X_valid[col] = X_valid[col].map(str)\n",
    "\n",
    "clf_baseline = CatBoostClassifier(iterations = 1000, eval_metric = 'AUC', cat_features = cat_cols_cb, random_seed=42, verbose = 500)\n",
    "clf_baseline.fit(X_train, y_train)\n",
    "roc_auc_score(y_valid, clf_baseline.predict(X_valid))"
   ]
  },
  {
   "cell_type": "markdown",
   "id": "0b011d3c-4ecb-41bc-8bb1-4235f3df78de",
   "metadata": {},
   "source": [
    "## RandomForest_Baseline  \n",
    "Аналогично переберем варианты кат фичей для поиска оптимального набора"
   ]
  },
  {
   "cell_type": "code",
   "execution_count": 86,
   "id": "1372e686-2888-40cf-9ffa-855f31222af5",
   "metadata": {},
   "outputs": [],
   "source": [
    "n_splits = 3\n",
    "feature_config_rf = []\n",
    "roc_auc_scores_rf = []\n",
    "\n",
    "for i in range(18):\n",
    "    X_rf = X.copy()\n",
    "    y_rf = y.copy()\n",
    "    cat_cols_cb1 = cat_cols_cb[i:]\n",
    "    for col in cat_cols_cb1:\n",
    "        X_rf[col] = X_rf[col].map(str)\n",
    "    X_rf = pd.get_dummies(X_rf, drop_first = True)\n",
    "    scores_rs = []\n",
    "    skf = StratifiedKFold(n_splits=n_splits, shuffle=True, random_state=42)\n",
    "\n",
    "    for train_index, test_index in skf.split(X_rf, y_rf):\n",
    "        X_train_rf, X_test_rf = X_rf.iloc[train_index], X_rf.iloc[test_index]\n",
    "        y_train_rf, y_test_rf = y_rf[train_index], y_rf[test_index]\n",
    "\n",
    "        clf = RandomForestClassifier(random_state = 42)\n",
    "\n",
    "        clf.fit(X_train_rf, y_train_rf)\n",
    "        scores_rs.append(roc_auc_score(y_test_rf, clf.predict(X_test_rf)))\n",
    "    feature_config_rf.append(cat_cols_cb1)\n",
    "    roc_auc_scores_rf.append(sum(scores_rs) / len(scores_rs))"
   ]
  },
  {
   "cell_type": "code",
   "execution_count": 134,
   "id": "aeda13ea-379c-49ef-9801-74a68bbb2756",
   "metadata": {},
   "outputs": [
    {
     "name": "stderr",
     "output_type": "stream",
     "text": [
      "/tmp/ipykernel_53/3656198469.py:2: VisibleDeprecationWarning: Creating an ndarray from ragged nested sequences (which is a list-or-tuple of lists-or-tuples-or ndarrays with different lengths or shapes) is deprecated. If you meant to do this, you must specify 'dtype=object' when creating the ndarray.\n",
      "  df['feature_config'] = np.array(feature_config)\n"
     ]
    },
    {
     "data": {
      "text/html": [
       "<div>\n",
       "<style scoped>\n",
       "    .dataframe tbody tr th:only-of-type {\n",
       "        vertical-align: middle;\n",
       "    }\n",
       "\n",
       "    .dataframe tbody tr th {\n",
       "        vertical-align: top;\n",
       "    }\n",
       "\n",
       "    .dataframe thead th {\n",
       "        text-align: right;\n",
       "    }\n",
       "</style>\n",
       "<table border=\"1\" class=\"dataframe\">\n",
       "  <thead>\n",
       "    <tr style=\"text-align: right;\">\n",
       "      <th></th>\n",
       "      <th>feature_config</th>\n",
       "      <th>roc_auc_scores</th>\n",
       "    </tr>\n",
       "  </thead>\n",
       "  <tbody>\n",
       "    <tr>\n",
       "      <th>0</th>\n",
       "      <td>[Secret_dwarf_info_1, Secret_dwarf_info_2, Sec...</td>\n",
       "      <td>0.504811</td>\n",
       "    </tr>\n",
       "    <tr>\n",
       "      <th>1</th>\n",
       "      <td>[Secret_dwarf_info_2, Secret_dwarf_info_3, Suc...</td>\n",
       "      <td>0.509439</td>\n",
       "    </tr>\n",
       "    <tr>\n",
       "      <th>2</th>\n",
       "      <td>[Secret_dwarf_info_3, Successful_deals_count, ...</td>\n",
       "      <td>0.503919</td>\n",
       "    </tr>\n",
       "    <tr>\n",
       "      <th>3</th>\n",
       "      <td>[Successful_deals_count, Hashed_deal_detail_1,...</td>\n",
       "      <td>0.514250</td>\n",
       "    </tr>\n",
       "    <tr>\n",
       "      <th>4</th>\n",
       "      <td>[Hashed_deal_detail_1, Hashed_deal_detail_2, H...</td>\n",
       "      <td>0.507660</td>\n",
       "    </tr>\n",
       "  </tbody>\n",
       "</table>\n",
       "</div>"
      ],
      "text/plain": [
       "                                      feature_config  roc_auc_scores\n",
       "0  [Secret_dwarf_info_1, Secret_dwarf_info_2, Sec...        0.504811\n",
       "1  [Secret_dwarf_info_2, Secret_dwarf_info_3, Suc...        0.509439\n",
       "2  [Secret_dwarf_info_3, Successful_deals_count, ...        0.503919\n",
       "3  [Successful_deals_count, Hashed_deal_detail_1,...        0.514250\n",
       "4  [Hashed_deal_detail_1, Hashed_deal_detail_2, H...        0.507660"
      ]
     },
     "execution_count": 134,
     "metadata": {},
     "output_type": "execute_result"
    }
   ],
   "source": [
    "df = pd.DataFrame()\n",
    "df['feature_config'] = np.array(feature_config)\n",
    "df['roc_auc_scores'] = np.array(roc_auc_scores)\n",
    "df.head()"
   ]
  },
  {
   "cell_type": "code",
   "execution_count": 136,
   "id": "65ade425-8089-4c45-ac2b-23322258aeec",
   "metadata": {},
   "outputs": [
    {
     "data": {
      "text/plain": [
       "(0.5163885930659093, 0.5026715090612854)"
      ]
     },
     "execution_count": 136,
     "metadata": {},
     "output_type": "execute_result"
    }
   ],
   "source": [
    "# по всем сидам и вариациям кат фичей разница в скоре на трейне невелика\n",
    "df.roc_auc_scores.max(), df.roc_auc_scores.min()"
   ]
  },
  {
   "cell_type": "code",
   "execution_count": 135,
   "id": "8a83a21b-1268-4402-9b09-015133d51c29",
   "metadata": {},
   "outputs": [
    {
     "data": {
      "text/plain": [
       "12    [First_deal_date_year, First_deal_date_month, ...\n",
       "Name: feature_config, dtype: object"
      ]
     },
     "execution_count": 135,
     "metadata": {},
     "output_type": "execute_result"
    }
   ],
   "source": [
    "# лучшая комбинация кат фичей\n",
    "df[df.roc_auc_scores == df.roc_auc_scores.max()].feature_config"
   ]
  },
  {
   "cell_type": "markdown",
   "id": "a94a41bc-6288-44e3-b07f-1fc4e7d03bf5",
   "metadata": {},
   "source": [
    "оптимальный перечень кат фичей для RandomForest\n",
    "['First_deal_date_year','First_deal_date_month','First_deal_date_day','First_default_date_year','First_default_date_month','First_default_date_day','Gender','Region']"
   ]
  },
  {
   "cell_type": "code",
   "execution_count": 88,
   "id": "a7ed1c3b-70eb-44d5-91b8-724a8d9d82e2",
   "metadata": {},
   "outputs": [
    {
     "data": {
      "text/plain": [
       "0.5136946977372508"
      ]
     },
     "execution_count": 88,
     "metadata": {},
     "output_type": "execute_result"
    }
   ],
   "source": [
    "# бейзлайн RandomForest\n",
    "cat_cols_rf = ['First_deal_date_year','First_deal_date_month','First_deal_date_day','First_default_date_year','First_default_date_month','First_default_date_day','Gender','Region']\n",
    "X_rf = X.copy()\n",
    "y_rf = y.copy()\n",
    "for col in cat_cols_rf:\n",
    "    X_rf[col] = X_rf[col].map(str)\n",
    "X_rf = pd.get_dummies(X_rf, drop_first = True)\n",
    "X_train_rf, X_valid_rf, y_train_rf, y_valid_rf = train_test_split(X_rf,y_rf, stratify = y_rf, test_size=0.3, random_state = 42)\n",
    "clf_rf = RandomForestClassifier(random_state = 42)\n",
    "clf_rf.fit(X_train_rf, y_train_rf)\n",
    "roc_auc_score(y_valid_rf, clf_rf.predict(X_valid_rf))"
   ]
  },
  {
   "cell_type": "markdown",
   "id": "b4dd1248-fa35-4331-b7d7-598aeb545754",
   "metadata": {},
   "source": [
    "### Поиск оптимальной модели через Optuna  \n",
    "искать оптимальные гиперпараметры будем на полных обучающих данных"
   ]
  },
  {
   "cell_type": "code",
   "execution_count": null,
   "id": "148cab43-d02c-4cd2-a756-3128c49a99d5",
   "metadata": {},
   "outputs": [],
   "source": [
    "def objective(trial):\n",
    "    # создаем модель\n",
    "    model = RandomForestClassifier(n_estimators=trial.suggest_int('n_estimators', 300, 510, step = 10),\n",
    "                                          max_depth=trial.suggest_int('max_depth', 30, 60, step = 1),\n",
    "                                          min_samples_leaf=trial.suggest_int('min_samples_leaf', 1, 10, step = 1),\n",
    "                                          random_state=42,\n",
    "                                          n_jobs=-1\n",
    "                                          )\n",
    "    score = cross_val_score(model, X_rf, y_rf, cv = 5, scoring=\"roc_auc\", n_jobs = -1).mean()  \n",
    "    return score\n",
    "\n",
    "study = optuna.create_study(direction='maximize')\n",
    "study.optimize(objective, n_trials=50)"
   ]
  },
  {
   "cell_type": "code",
   "execution_count": 64,
   "id": "c6187a8e-0003-4f09-96cc-f84e473a16ef",
   "metadata": {},
   "outputs": [
    {
     "name": "stdout",
     "output_type": "stream",
     "text": [
      "Наилучшие значения гиперпараметров {'n_estimators': 330, 'max_depth': 38, 'min_samples_leaf': 7}\n",
      "roc_auc_score на обучающем наборе: 0.73\n"
     ]
    }
   ],
   "source": [
    "# выводим результаты на обучающей выборке\n",
    "print(\"Наилучшие значения гиперпараметров {}\".format(study.best_params))\n",
    "print(\"roc_auc_score на обучающем наборе: {:.2f}\".format(study.best_value))"
   ]
  },
  {
   "cell_type": "code",
   "execution_count": 65,
   "id": "63d730ac-1558-4917-82ba-331269b867ae",
   "metadata": {},
   "outputs": [
    {
     "data": {
      "application/vnd.plotly.v1+json": {
       "config": {
        "plotlyServerURL": "https://plot.ly"
       },
       "data": [
        {
         "cliponaxis": false,
         "hovertemplate": [
          "max_depth (IntDistribution): 0.02028581280663032<extra></extra>",
          "n_estimators (IntDistribution): 0.036007972240430584<extra></extra>",
          "min_samples_leaf (IntDistribution): 0.943706214952939<extra></extra>"
         ],
         "name": "roc_auc",
         "orientation": "h",
         "text": [
          "0.02",
          "0.04",
          "0.94"
         ],
         "textposition": "outside",
         "type": "bar",
         "x": [
          0.02028581280663032,
          0.036007972240430584,
          0.943706214952939
         ],
         "y": [
          "max_depth",
          "n_estimators",
          "min_samples_leaf"
         ]
        }
       ],
       "layout": {
        "autosize": true,
        "template": {
         "data": {
          "bar": [
           {
            "error_x": {
             "color": "#2a3f5f"
            },
            "error_y": {
             "color": "#2a3f5f"
            },
            "marker": {
             "line": {
              "color": "#E5ECF6",
              "width": 0.5
             },
             "pattern": {
              "fillmode": "overlay",
              "size": 10,
              "solidity": 0.2
             }
            },
            "type": "bar"
           }
          ],
          "barpolar": [
           {
            "marker": {
             "line": {
              "color": "#E5ECF6",
              "width": 0.5
             },
             "pattern": {
              "fillmode": "overlay",
              "size": 10,
              "solidity": 0.2
             }
            },
            "type": "barpolar"
           }
          ],
          "carpet": [
           {
            "aaxis": {
             "endlinecolor": "#2a3f5f",
             "gridcolor": "white",
             "linecolor": "white",
             "minorgridcolor": "white",
             "startlinecolor": "#2a3f5f"
            },
            "baxis": {
             "endlinecolor": "#2a3f5f",
             "gridcolor": "white",
             "linecolor": "white",
             "minorgridcolor": "white",
             "startlinecolor": "#2a3f5f"
            },
            "type": "carpet"
           }
          ],
          "choropleth": [
           {
            "colorbar": {
             "outlinewidth": 0,
             "ticks": ""
            },
            "type": "choropleth"
           }
          ],
          "contour": [
           {
            "colorbar": {
             "outlinewidth": 0,
             "ticks": ""
            },
            "colorscale": [
             [
              0,
              "#0d0887"
             ],
             [
              0.1111111111111111,
              "#46039f"
             ],
             [
              0.2222222222222222,
              "#7201a8"
             ],
             [
              0.3333333333333333,
              "#9c179e"
             ],
             [
              0.4444444444444444,
              "#bd3786"
             ],
             [
              0.5555555555555556,
              "#d8576b"
             ],
             [
              0.6666666666666666,
              "#ed7953"
             ],
             [
              0.7777777777777778,
              "#fb9f3a"
             ],
             [
              0.8888888888888888,
              "#fdca26"
             ],
             [
              1,
              "#f0f921"
             ]
            ],
            "type": "contour"
           }
          ],
          "contourcarpet": [
           {
            "colorbar": {
             "outlinewidth": 0,
             "ticks": ""
            },
            "type": "contourcarpet"
           }
          ],
          "heatmap": [
           {
            "colorbar": {
             "outlinewidth": 0,
             "ticks": ""
            },
            "colorscale": [
             [
              0,
              "#0d0887"
             ],
             [
              0.1111111111111111,
              "#46039f"
             ],
             [
              0.2222222222222222,
              "#7201a8"
             ],
             [
              0.3333333333333333,
              "#9c179e"
             ],
             [
              0.4444444444444444,
              "#bd3786"
             ],
             [
              0.5555555555555556,
              "#d8576b"
             ],
             [
              0.6666666666666666,
              "#ed7953"
             ],
             [
              0.7777777777777778,
              "#fb9f3a"
             ],
             [
              0.8888888888888888,
              "#fdca26"
             ],
             [
              1,
              "#f0f921"
             ]
            ],
            "type": "heatmap"
           }
          ],
          "heatmapgl": [
           {
            "colorbar": {
             "outlinewidth": 0,
             "ticks": ""
            },
            "colorscale": [
             [
              0,
              "#0d0887"
             ],
             [
              0.1111111111111111,
              "#46039f"
             ],
             [
              0.2222222222222222,
              "#7201a8"
             ],
             [
              0.3333333333333333,
              "#9c179e"
             ],
             [
              0.4444444444444444,
              "#bd3786"
             ],
             [
              0.5555555555555556,
              "#d8576b"
             ],
             [
              0.6666666666666666,
              "#ed7953"
             ],
             [
              0.7777777777777778,
              "#fb9f3a"
             ],
             [
              0.8888888888888888,
              "#fdca26"
             ],
             [
              1,
              "#f0f921"
             ]
            ],
            "type": "heatmapgl"
           }
          ],
          "histogram": [
           {
            "marker": {
             "pattern": {
              "fillmode": "overlay",
              "size": 10,
              "solidity": 0.2
             }
            },
            "type": "histogram"
           }
          ],
          "histogram2d": [
           {
            "colorbar": {
             "outlinewidth": 0,
             "ticks": ""
            },
            "colorscale": [
             [
              0,
              "#0d0887"
             ],
             [
              0.1111111111111111,
              "#46039f"
             ],
             [
              0.2222222222222222,
              "#7201a8"
             ],
             [
              0.3333333333333333,
              "#9c179e"
             ],
             [
              0.4444444444444444,
              "#bd3786"
             ],
             [
              0.5555555555555556,
              "#d8576b"
             ],
             [
              0.6666666666666666,
              "#ed7953"
             ],
             [
              0.7777777777777778,
              "#fb9f3a"
             ],
             [
              0.8888888888888888,
              "#fdca26"
             ],
             [
              1,
              "#f0f921"
             ]
            ],
            "type": "histogram2d"
           }
          ],
          "histogram2dcontour": [
           {
            "colorbar": {
             "outlinewidth": 0,
             "ticks": ""
            },
            "colorscale": [
             [
              0,
              "#0d0887"
             ],
             [
              0.1111111111111111,
              "#46039f"
             ],
             [
              0.2222222222222222,
              "#7201a8"
             ],
             [
              0.3333333333333333,
              "#9c179e"
             ],
             [
              0.4444444444444444,
              "#bd3786"
             ],
             [
              0.5555555555555556,
              "#d8576b"
             ],
             [
              0.6666666666666666,
              "#ed7953"
             ],
             [
              0.7777777777777778,
              "#fb9f3a"
             ],
             [
              0.8888888888888888,
              "#fdca26"
             ],
             [
              1,
              "#f0f921"
             ]
            ],
            "type": "histogram2dcontour"
           }
          ],
          "mesh3d": [
           {
            "colorbar": {
             "outlinewidth": 0,
             "ticks": ""
            },
            "type": "mesh3d"
           }
          ],
          "parcoords": [
           {
            "line": {
             "colorbar": {
              "outlinewidth": 0,
              "ticks": ""
             }
            },
            "type": "parcoords"
           }
          ],
          "pie": [
           {
            "automargin": true,
            "type": "pie"
           }
          ],
          "scatter": [
           {
            "fillpattern": {
             "fillmode": "overlay",
             "size": 10,
             "solidity": 0.2
            },
            "type": "scatter"
           }
          ],
          "scatter3d": [
           {
            "line": {
             "colorbar": {
              "outlinewidth": 0,
              "ticks": ""
             }
            },
            "marker": {
             "colorbar": {
              "outlinewidth": 0,
              "ticks": ""
             }
            },
            "type": "scatter3d"
           }
          ],
          "scattercarpet": [
           {
            "marker": {
             "colorbar": {
              "outlinewidth": 0,
              "ticks": ""
             }
            },
            "type": "scattercarpet"
           }
          ],
          "scattergeo": [
           {
            "marker": {
             "colorbar": {
              "outlinewidth": 0,
              "ticks": ""
             }
            },
            "type": "scattergeo"
           }
          ],
          "scattergl": [
           {
            "marker": {
             "colorbar": {
              "outlinewidth": 0,
              "ticks": ""
             }
            },
            "type": "scattergl"
           }
          ],
          "scattermapbox": [
           {
            "marker": {
             "colorbar": {
              "outlinewidth": 0,
              "ticks": ""
             }
            },
            "type": "scattermapbox"
           }
          ],
          "scatterpolar": [
           {
            "marker": {
             "colorbar": {
              "outlinewidth": 0,
              "ticks": ""
             }
            },
            "type": "scatterpolar"
           }
          ],
          "scatterpolargl": [
           {
            "marker": {
             "colorbar": {
              "outlinewidth": 0,
              "ticks": ""
             }
            },
            "type": "scatterpolargl"
           }
          ],
          "scatterternary": [
           {
            "marker": {
             "colorbar": {
              "outlinewidth": 0,
              "ticks": ""
             }
            },
            "type": "scatterternary"
           }
          ],
          "surface": [
           {
            "colorbar": {
             "outlinewidth": 0,
             "ticks": ""
            },
            "colorscale": [
             [
              0,
              "#0d0887"
             ],
             [
              0.1111111111111111,
              "#46039f"
             ],
             [
              0.2222222222222222,
              "#7201a8"
             ],
             [
              0.3333333333333333,
              "#9c179e"
             ],
             [
              0.4444444444444444,
              "#bd3786"
             ],
             [
              0.5555555555555556,
              "#d8576b"
             ],
             [
              0.6666666666666666,
              "#ed7953"
             ],
             [
              0.7777777777777778,
              "#fb9f3a"
             ],
             [
              0.8888888888888888,
              "#fdca26"
             ],
             [
              1,
              "#f0f921"
             ]
            ],
            "type": "surface"
           }
          ],
          "table": [
           {
            "cells": {
             "fill": {
              "color": "#EBF0F8"
             },
             "line": {
              "color": "white"
             }
            },
            "header": {
             "fill": {
              "color": "#C8D4E3"
             },
             "line": {
              "color": "white"
             }
            },
            "type": "table"
           }
          ]
         },
         "layout": {
          "annotationdefaults": {
           "arrowcolor": "#2a3f5f",
           "arrowhead": 0,
           "arrowwidth": 1
          },
          "autotypenumbers": "strict",
          "coloraxis": {
           "colorbar": {
            "outlinewidth": 0,
            "ticks": ""
           }
          },
          "colorscale": {
           "diverging": [
            [
             0,
             "#8e0152"
            ],
            [
             0.1,
             "#c51b7d"
            ],
            [
             0.2,
             "#de77ae"
            ],
            [
             0.3,
             "#f1b6da"
            ],
            [
             0.4,
             "#fde0ef"
            ],
            [
             0.5,
             "#f7f7f7"
            ],
            [
             0.6,
             "#e6f5d0"
            ],
            [
             0.7,
             "#b8e186"
            ],
            [
             0.8,
             "#7fbc41"
            ],
            [
             0.9,
             "#4d9221"
            ],
            [
             1,
             "#276419"
            ]
           ],
           "sequential": [
            [
             0,
             "#0d0887"
            ],
            [
             0.1111111111111111,
             "#46039f"
            ],
            [
             0.2222222222222222,
             "#7201a8"
            ],
            [
             0.3333333333333333,
             "#9c179e"
            ],
            [
             0.4444444444444444,
             "#bd3786"
            ],
            [
             0.5555555555555556,
             "#d8576b"
            ],
            [
             0.6666666666666666,
             "#ed7953"
            ],
            [
             0.7777777777777778,
             "#fb9f3a"
            ],
            [
             0.8888888888888888,
             "#fdca26"
            ],
            [
             1,
             "#f0f921"
            ]
           ],
           "sequentialminus": [
            [
             0,
             "#0d0887"
            ],
            [
             0.1111111111111111,
             "#46039f"
            ],
            [
             0.2222222222222222,
             "#7201a8"
            ],
            [
             0.3333333333333333,
             "#9c179e"
            ],
            [
             0.4444444444444444,
             "#bd3786"
            ],
            [
             0.5555555555555556,
             "#d8576b"
            ],
            [
             0.6666666666666666,
             "#ed7953"
            ],
            [
             0.7777777777777778,
             "#fb9f3a"
            ],
            [
             0.8888888888888888,
             "#fdca26"
            ],
            [
             1,
             "#f0f921"
            ]
           ]
          },
          "colorway": [
           "#636efa",
           "#EF553B",
           "#00cc96",
           "#ab63fa",
           "#FFA15A",
           "#19d3f3",
           "#FF6692",
           "#B6E880",
           "#FF97FF",
           "#FECB52"
          ],
          "font": {
           "color": "#2a3f5f"
          },
          "geo": {
           "bgcolor": "white",
           "lakecolor": "white",
           "landcolor": "#E5ECF6",
           "showlakes": true,
           "showland": true,
           "subunitcolor": "white"
          },
          "hoverlabel": {
           "align": "left"
          },
          "hovermode": "closest",
          "mapbox": {
           "style": "light"
          },
          "paper_bgcolor": "white",
          "plot_bgcolor": "#E5ECF6",
          "polar": {
           "angularaxis": {
            "gridcolor": "white",
            "linecolor": "white",
            "ticks": ""
           },
           "bgcolor": "#E5ECF6",
           "radialaxis": {
            "gridcolor": "white",
            "linecolor": "white",
            "ticks": ""
           }
          },
          "scene": {
           "xaxis": {
            "backgroundcolor": "#E5ECF6",
            "gridcolor": "white",
            "gridwidth": 2,
            "linecolor": "white",
            "showbackground": true,
            "ticks": "",
            "zerolinecolor": "white"
           },
           "yaxis": {
            "backgroundcolor": "#E5ECF6",
            "gridcolor": "white",
            "gridwidth": 2,
            "linecolor": "white",
            "showbackground": true,
            "ticks": "",
            "zerolinecolor": "white"
           },
           "zaxis": {
            "backgroundcolor": "#E5ECF6",
            "gridcolor": "white",
            "gridwidth": 2,
            "linecolor": "white",
            "showbackground": true,
            "ticks": "",
            "zerolinecolor": "white"
           }
          },
          "shapedefaults": {
           "line": {
            "color": "#2a3f5f"
           }
          },
          "ternary": {
           "aaxis": {
            "gridcolor": "white",
            "linecolor": "white",
            "ticks": ""
           },
           "baxis": {
            "gridcolor": "white",
            "linecolor": "white",
            "ticks": ""
           },
           "bgcolor": "#E5ECF6",
           "caxis": {
            "gridcolor": "white",
            "linecolor": "white",
            "ticks": ""
           }
          },
          "title": {
           "x": 0.05
          },
          "xaxis": {
           "automargin": true,
           "gridcolor": "white",
           "linecolor": "white",
           "ticks": "",
           "title": {
            "standoff": 15
           },
           "zerolinecolor": "white",
           "zerolinewidth": 2
          },
          "yaxis": {
           "automargin": true,
           "gridcolor": "white",
           "linecolor": "white",
           "ticks": "",
           "title": {
            "standoff": 15
           },
           "zerolinecolor": "white",
           "zerolinewidth": 2
          }
         }
        },
        "title": {
         "text": "Hyperparameter Importances"
        },
        "xaxis": {
         "autorange": true,
         "range": [
          0,
          0.9933749631083569
         ],
         "title": {
          "text": "Hyperparameter Importance"
         },
         "type": "linear"
        },
        "yaxis": {
         "autorange": true,
         "range": [
          -0.5,
          2.5
         ],
         "title": {
          "text": "Hyperparameter"
         },
         "type": "category"
        }
       }
      },
      "image/png": "[encoded data removed]",
      "text/html": [
       "<div>                            <div id=\"35166223-3e28-4cf2-97fe-0895b465d397\" class=\"plotly-graph-div\" style=\"height:525px; width:100%;\"></div>            <script type=\"text/javascript\">                require([\"plotly\"], function(Plotly) {                    window.PLOTLYENV=window.PLOTLYENV || {};                                    if (document.getElementById(\"35166223-3e28-4cf2-97fe-0895b465d397\")) {                    Plotly.newPlot(                        \"35166223-3e28-4cf2-97fe-0895b465d397\",                        [{\"cliponaxis\":false,\"hovertemplate\":[\"max_depth (IntDistribution): 0.02028581280663032<extra></extra>\",\"n_estimators (IntDistribution): 0.036007972240430584<extra></extra>\",\"min_samples_leaf (IntDistribution): 0.943706214952939<extra></extra>\"],\"name\":\"roc_auc\",\"orientation\":\"h\",\"text\":[\"0.02\",\"0.04\",\"0.94\"],\"textposition\":\"outside\",\"x\":[0.02028581280663032,0.036007972240430584,0.943706214952939],\"y\":[\"max_depth\",\"n_estimators\",\"min_samples_leaf\"],\"type\":\"bar\"}],                        {\"title\":{\"text\":\"Hyperparameter Importances\"},\"xaxis\":{\"title\":{\"text\":\"Hyperparameter Importance\"}},\"yaxis\":{\"title\":{\"text\":\"Hyperparameter\"}},\"template\":{\"data\":{\"histogram2dcontour\":[{\"type\":\"histogram2dcontour\",\"colorbar\":{\"outlinewidth\":0,\"ticks\":\"\"},\"colorscale\":[[0.0,\"#0d0887\"],[0.1111111111111111,\"#46039f\"],[0.2222222222222222,\"#7201a8\"],[0.3333333333333333,\"#9c179e\"],[0.4444444444444444,\"#bd3786\"],[0.5555555555555556,\"#d8576b\"],[0.6666666666666666,\"#ed7953\"],[0.7777777777777778,\"#fb9f3a\"],[0.8888888888888888,\"#fdca26\"],[1.0,\"#f0f921\"]]}],\"choropleth\":[{\"type\":\"choropleth\",\"colorbar\":{\"outlinewidth\":0,\"ticks\":\"\"}}],\"histogram2d\":[{\"type\":\"histogram2d\",\"colorbar\":{\"outlinewidth\":0,\"ticks\":\"\"},\"colorscale\":[[0.0,\"#0d0887\"],[0.1111111111111111,\"#46039f\"],[0.2222222222222222,\"#7201a8\"],[0.3333333333333333,\"#9c179e\"],[0.4444444444444444,\"#bd3786\"],[0.5555555555555556,\"#d8576b\"],[0.6666666666666666,\"#ed7953\"],[0.7777777777777778,\"#fb9f3a\"],[0.8888888888888888,\"#fdca26\"],[1.0,\"#f0f921\"]]}],\"heatmap\":[{\"type\":\"heatmap\",\"colorbar\":{\"outlinewidth\":0,\"ticks\":\"\"},\"colorscale\":[[0.0,\"#0d0887\"],[0.1111111111111111,\"#46039f\"],[0.2222222222222222,\"#7201a8\"],[0.3333333333333333,\"#9c179e\"],[0.4444444444444444,\"#bd3786\"],[0.5555555555555556,\"#d8576b\"],[0.6666666666666666,\"#ed7953\"],[0.7777777777777778,\"#fb9f3a\"],[0.8888888888888888,\"#fdca26\"],[1.0,\"#f0f921\"]]}],\"heatmapgl\":[{\"type\":\"heatmapgl\",\"colorbar\":{\"outlinewidth\":0,\"ticks\":\"\"},\"colorscale\":[[0.0,\"#0d0887\"],[0.1111111111111111,\"#46039f\"],[0.2222222222222222,\"#7201a8\"],[0.3333333333333333,\"#9c179e\"],[0.4444444444444444,\"#bd3786\"],[0.5555555555555556,\"#d8576b\"],[0.6666666666666666,\"#ed7953\"],[0.7777777777777778,\"#fb9f3a\"],[0.8888888888888888,\"#fdca26\"],[1.0,\"#f0f921\"]]}],\"contourcarpet\":[{\"type\":\"contourcarpet\",\"colorbar\":{\"outlinewidth\":0,\"ticks\":\"\"}}],\"contour\":[{\"type\":\"contour\",\"colorbar\":{\"outlinewidth\":0,\"ticks\":\"\"},\"colorscale\":[[0.0,\"#0d0887\"],[0.1111111111111111,\"#46039f\"],[0.2222222222222222,\"#7201a8\"],[0.3333333333333333,\"#9c179e\"],[0.4444444444444444,\"#bd3786\"],[0.5555555555555556,\"#d8576b\"],[0.6666666666666666,\"#ed7953\"],[0.7777777777777778,\"#fb9f3a\"],[0.8888888888888888,\"#fdca26\"],[1.0,\"#f0f921\"]]}],\"surface\":[{\"type\":\"surface\",\"colorbar\":{\"outlinewidth\":0,\"ticks\":\"\"},\"colorscale\":[[0.0,\"#0d0887\"],[0.1111111111111111,\"#46039f\"],[0.2222222222222222,\"#7201a8\"],[0.3333333333333333,\"#9c179e\"],[0.4444444444444444,\"#bd3786\"],[0.5555555555555556,\"#d8576b\"],[0.6666666666666666,\"#ed7953\"],[0.7777777777777778,\"#fb9f3a\"],[0.8888888888888888,\"#fdca26\"],[1.0,\"#f0f921\"]]}],\"mesh3d\":[{\"type\":\"mesh3d\",\"colorbar\":{\"outlinewidth\":0,\"ticks\":\"\"}}],\"scatter\":[{\"fillpattern\":{\"fillmode\":\"overlay\",\"size\":10,\"solidity\":0.2},\"type\":\"scatter\"}],\"parcoords\":[{\"type\":\"parcoords\",\"line\":{\"colorbar\":{\"outlinewidth\":0,\"ticks\":\"\"}}}],\"scatterpolargl\":[{\"type\":\"scatterpolargl\",\"marker\":{\"colorbar\":{\"outlinewidth\":0,\"ticks\":\"\"}}}],\"bar\":[{\"error_x\":{\"color\":\"#2a3f5f\"},\"error_y\":{\"color\":\"#2a3f5f\"},\"marker\":{\"line\":{\"color\":\"#E5ECF6\",\"width\":0.5},\"pattern\":{\"fillmode\":\"overlay\",\"size\":10,\"solidity\":0.2}},\"type\":\"bar\"}],\"scattergeo\":[{\"type\":\"scattergeo\",\"marker\":{\"colorbar\":{\"outlinewidth\":0,\"ticks\":\"\"}}}],\"scatterpolar\":[{\"type\":\"scatterpolar\",\"marker\":{\"colorbar\":{\"outlinewidth\":0,\"ticks\":\"\"}}}],\"histogram\":[{\"marker\":{\"pattern\":{\"fillmode\":\"overlay\",\"size\":10,\"solidity\":0.2}},\"type\":\"histogram\"}],\"scattergl\":[{\"type\":\"scattergl\",\"marker\":{\"colorbar\":{\"outlinewidth\":0,\"ticks\":\"\"}}}],\"scatter3d\":[{\"type\":\"scatter3d\",\"line\":{\"colorbar\":{\"outlinewidth\":0,\"ticks\":\"\"}},\"marker\":{\"colorbar\":{\"outlinewidth\":0,\"ticks\":\"\"}}}],\"scattermapbox\":[{\"type\":\"scattermapbox\",\"marker\":{\"colorbar\":{\"outlinewidth\":0,\"ticks\":\"\"}}}],\"scatterternary\":[{\"type\":\"scatterternary\",\"marker\":{\"colorbar\":{\"outlinewidth\":0,\"ticks\":\"\"}}}],\"scattercarpet\":[{\"type\":\"scattercarpet\",\"marker\":{\"colorbar\":{\"outlinewidth\":0,\"ticks\":\"\"}}}],\"carpet\":[{\"aaxis\":{\"endlinecolor\":\"#2a3f5f\",\"gridcolor\":\"white\",\"linecolor\":\"white\",\"minorgridcolor\":\"white\",\"startlinecolor\":\"#2a3f5f\"},\"baxis\":{\"endlinecolor\":\"#2a3f5f\",\"gridcolor\":\"white\",\"linecolor\":\"white\",\"minorgridcolor\":\"white\",\"startlinecolor\":\"#2a3f5f\"},\"type\":\"carpet\"}],\"table\":[{\"cells\":{\"fill\":{\"color\":\"#EBF0F8\"},\"line\":{\"color\":\"white\"}},\"header\":{\"fill\":{\"color\":\"#C8D4E3\"},\"line\":{\"color\":\"white\"}},\"type\":\"table\"}],\"barpolar\":[{\"marker\":{\"line\":{\"color\":\"#E5ECF6\",\"width\":0.5},\"pattern\":{\"fillmode\":\"overlay\",\"size\":10,\"solidity\":0.2}},\"type\":\"barpolar\"}],\"pie\":[{\"automargin\":true,\"type\":\"pie\"}]},\"layout\":{\"autotypenumbers\":\"strict\",\"colorway\":[\"#636efa\",\"#EF553B\",\"#00cc96\",\"#ab63fa\",\"#FFA15A\",\"#19d3f3\",\"#FF6692\",\"#B6E880\",\"#FF97FF\",\"#FECB52\"],\"font\":{\"color\":\"#2a3f5f\"},\"hovermode\":\"closest\",\"hoverlabel\":{\"align\":\"left\"},\"paper_bgcolor\":\"white\",\"plot_bgcolor\":\"#E5ECF6\",\"polar\":{\"bgcolor\":\"#E5ECF6\",\"angularaxis\":{\"gridcolor\":\"white\",\"linecolor\":\"white\",\"ticks\":\"\"},\"radialaxis\":{\"gridcolor\":\"white\",\"linecolor\":\"white\",\"ticks\":\"\"}},\"ternary\":{\"bgcolor\":\"#E5ECF6\",\"aaxis\":{\"gridcolor\":\"white\",\"linecolor\":\"white\",\"ticks\":\"\"},\"baxis\":{\"gridcolor\":\"white\",\"linecolor\":\"white\",\"ticks\":\"\"},\"caxis\":{\"gridcolor\":\"white\",\"linecolor\":\"white\",\"ticks\":\"\"}},\"coloraxis\":{\"colorbar\":{\"outlinewidth\":0,\"ticks\":\"\"}},\"colorscale\":{\"sequential\":[[0.0,\"#0d0887\"],[0.1111111111111111,\"#46039f\"],[0.2222222222222222,\"#7201a8\"],[0.3333333333333333,\"#9c179e\"],[0.4444444444444444,\"#bd3786\"],[0.5555555555555556,\"#d8576b\"],[0.6666666666666666,\"#ed7953\"],[0.7777777777777778,\"#fb9f3a\"],[0.8888888888888888,\"#fdca26\"],[1.0,\"#f0f921\"]],\"sequentialminus\":[[0.0,\"#0d0887\"],[0.1111111111111111,\"#46039f\"],[0.2222222222222222,\"#7201a8\"],[0.3333333333333333,\"#9c179e\"],[0.4444444444444444,\"#bd3786\"],[0.5555555555555556,\"#d8576b\"],[0.6666666666666666,\"#ed7953\"],[0.7777777777777778,\"#fb9f3a\"],[0.8888888888888888,\"#fdca26\"],[1.0,\"#f0f921\"]],\"diverging\":[[0,\"#8e0152\"],[0.1,\"#c51b7d\"],[0.2,\"#de77ae\"],[0.3,\"#f1b6da\"],[0.4,\"#fde0ef\"],[0.5,\"#f7f7f7\"],[0.6,\"#e6f5d0\"],[0.7,\"#b8e186\"],[0.8,\"#7fbc41\"],[0.9,\"#4d9221\"],[1,\"#276419\"]]},\"xaxis\":{\"gridcolor\":\"white\",\"linecolor\":\"white\",\"ticks\":\"\",\"title\":{\"standoff\":15},\"zerolinecolor\":\"white\",\"automargin\":true,\"zerolinewidth\":2},\"yaxis\":{\"gridcolor\":\"white\",\"linecolor\":\"white\",\"ticks\":\"\",\"title\":{\"standoff\":15},\"zerolinecolor\":\"white\",\"automargin\":true,\"zerolinewidth\":2},\"scene\":{\"xaxis\":{\"backgroundcolor\":\"#E5ECF6\",\"gridcolor\":\"white\",\"linecolor\":\"white\",\"showbackground\":true,\"ticks\":\"\",\"zerolinecolor\":\"white\",\"gridwidth\":2},\"yaxis\":{\"backgroundcolor\":\"#E5ECF6\",\"gridcolor\":\"white\",\"linecolor\":\"white\",\"showbackground\":true,\"ticks\":\"\",\"zerolinecolor\":\"white\",\"gridwidth\":2},\"zaxis\":{\"backgroundcolor\":\"#E5ECF6\",\"gridcolor\":\"white\",\"linecolor\":\"white\",\"showbackground\":true,\"ticks\":\"\",\"zerolinecolor\":\"white\",\"gridwidth\":2}},\"shapedefaults\":{\"line\":{\"color\":\"#2a3f5f\"}},\"annotationdefaults\":{\"arrowcolor\":\"#2a3f5f\",\"arrowhead\":0,\"arrowwidth\":1},\"geo\":{\"bgcolor\":\"white\",\"landcolor\":\"#E5ECF6\",\"subunitcolor\":\"white\",\"showland\":true,\"showlakes\":true,\"lakecolor\":\"white\"},\"title\":{\"x\":0.05},\"mapbox\":{\"style\":\"light\"}}}},                        {\"responsive\": true}                    ).then(function(){\n",
       "                            \n",
       "var gd = document.getElementById('35166223-3e28-4cf2-97fe-0895b465d397');\n",
       "var x = new MutationObserver(function (mutations, observer) {{\n",
       "        var display = window.getComputedStyle(gd).display;\n",
       "        if (!display || display === 'none') {{\n",
       "            console.log([gd, 'removed!']);\n",
       "            Plotly.purge(gd);\n",
       "            observer.disconnect();\n",
       "        }}\n",
       "}});\n",
       "\n",
       "// Listen for the removal of the full notebook cells\n",
       "var notebookContainer = gd.closest('#notebook-container');\n",
       "if (notebookContainer) {{\n",
       "    x.observe(notebookContainer, {childList: true});\n",
       "}}\n",
       "\n",
       "// Listen for the clearing of the current output cell\n",
       "var outputEl = gd.closest('.output');\n",
       "if (outputEl) {{\n",
       "    x.observe(outputEl, {childList: true});\n",
       "}}\n",
       "\n",
       "                        })                };                });            </script>        </div>"
      ]
     },
     "metadata": {},
     "output_type": "display_data"
    }
   ],
   "source": [
    "# посмотрим на значимость подбираемых гиперпараметров\n",
    "optuna.visualization.plot_param_importances(study, target_name=\"roc_auc\")"
   ]
  },
  {
   "cell_type": "code",
   "execution_count": null,
   "id": "5089db60-04ef-402b-b94c-c27e20eb381d",
   "metadata": {},
   "outputs": [],
   "source": [
    "# поскольку наиболее значимо минимальное число объектов в листьях, повторим поиск по этому парамеру, зафиксив остальное\n",
    "def objective(trial):\n",
    "    # создаем модель\n",
    "    model = RandomForestClassifier(min_samples_leaf=trial.suggest_int('min_samples_leaf', 5, 20, step = 1),\n",
    "                                          n_estimators = 330, \n",
    "                                          max_depth = 38, \n",
    "                                          random_state=42,\n",
    "                                          n_jobs=-1\n",
    "                                          )\n",
    "    score = cross_val_score(model, X_rf, y_rf, cv = 5, scoring=\"roc_auc\", n_jobs = -1).mean()  \n",
    "    return score\n",
    "\n",
    "study = optuna.create_study(direction='maximize')\n",
    "study.optimize(objective, n_trials=50)"
   ]
  },
  {
   "cell_type": "code",
   "execution_count": 68,
   "id": "bed6728e-a576-4aea-8a02-ade00a1b6d25",
   "metadata": {},
   "outputs": [
    {
     "name": "stdout",
     "output_type": "stream",
     "text": [
      "Наилучшие значения гиперпараметров {'min_samples_leaf': 9}\n",
      "roc_auc_score на обучающем наборе: 0.75\n"
     ]
    }
   ],
   "source": [
    "# выводим результаты на обучающей выборке\n",
    "print(\"Наилучшие значения гиперпараметров {}\".format(study.best_params))\n",
    "print(\"roc_auc_score на обучающем наборе: {:.2f}\".format(study.best_value))"
   ]
  },
  {
   "cell_type": "code",
   "execution_count": 69,
   "id": "b147ba40-2da7-4961-932e-ea845d56ab85",
   "metadata": {},
   "outputs": [],
   "source": [
    "# для итоговой оценки возьмем средние предсказания моделей на разных random_state\n",
    "cat_cols_rf = ['First_deal_date_year','First_deal_date_month','First_deal_date_day','First_default_date_year','First_default_date_month','First_default_date_day','Gender','Region']\n",
    "df = pd.read_csv('train.csv')\n",
    "y = df.Default\n",
    "df_test = pd.read_csv('test.csv')\n",
    "df.drop(columns = 'Default', inplace = True)\n",
    "\n",
    "df_full = pd.concat([df, df_test])\n",
    "df_full = pipe.fit_transform(df_full)\n",
    "for col in cat_cols_rf:\n",
    "    df_full[col] = df_full[col].map(str)\n",
    "df_full = pd.get_dummies(df_full, drop_first = True)\n",
    "\n",
    "X = df_full[:3168]   # 3168\n",
    "X_test = df_full[3168:]     # 989\n",
    "y_pred = np.zeros(X_test.shape[0])  #989\n",
    "\n",
    "kFold_random_state = [101, 42, 666, 228, 777, 2021, 75]\n",
    "for random_state in kFold_random_state:\n",
    "    clf = RandomForestClassifier(max_depth=38, min_samples_leaf=9, n_estimators=330, random_state=random_state)\n",
    "    clf.fit(X, y)\n",
    "    y_pred += clf.predict_proba(X_test)[:, 1]\n",
    "y_pred /= X_test.shape[0]\n",
    "\n",
    "res = pd.DataFrame()\n",
    "res['Deal_id'] = df_test.Deal_id\n",
    "res['Prediction'] = pd.Series(y_pred)\n",
    "res.to_csv('clf_best_last.csv', index = False)"
   ]
  },
  {
   "cell_type": "markdown",
   "id": "c5d81409-fa30-4c3b-b87a-f131aafac688",
   "metadata": {},
   "source": [
    "**ROC_AUC на тесте 0.705**"
   ]
  }
 ],
 "metadata": {
  "kernelspec": {
   "display_name": "Python 3 (ipykernel)",
   "language": "python",
   "name": "python3"
  },
  "language_info": {
   "codemirror_mode": {
    "name": "ipython",
    "version": 3
   },
   "file_extension": ".py",
   "mimetype": "text/x-python",
   "name": "python",
   "nbconvert_exporter": "python",
   "pygments_lexer": "ipython3",
   "version": "3.8.10"
  }
 },
 "nbformat": 4,
 "nbformat_minor": 5
}
